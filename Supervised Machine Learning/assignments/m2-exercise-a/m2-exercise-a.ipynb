{
 "cells": [
  {
   "cell_type": "markdown",
   "metadata": {},
   "source": [
    "# Module 2: Exercise A"
   ]
  },
  {
   "cell_type": "code",
   "execution_count": 1,
   "metadata": {
    "id": "6s-rjiOT0MKm"
   },
   "outputs": [],
   "source": [
    "import pandas as pd\n",
    "import numpy as np\n",
    "\n",
    "import matplotlib.pyplot as plt\n",
    "import seaborn as sns\n",
    "\n",
    "%matplotlib inline"
   ]
  },
  {
   "cell_type": "markdown",
   "metadata": {
    "id": "IgxqogG50MKn",
    "tags": []
   },
   "source": [
    "## Step 1: Explore Data"
   ]
  },
  {
   "cell_type": "markdown",
   "metadata": {
    "id": "7bprHbYE0MKk"
   },
   "source": [
    "Let's import and explore the information \"bodyfat.csv\":"
   ]
  },
  {
   "cell_type": "code",
   "execution_count": null,
   "metadata": {},
   "outputs": [],
   "source": [
    "..."
   ]
  },
  {
   "cell_type": "markdown",
   "metadata": {},
   "source": [
    ">__Task 1__\n",
    ">\n",
    ">Generate the first 5 lines, a meta information, and descriptive statistics of the DataFrame"
   ]
  },
  {
   "cell_type": "code",
   "execution_count": null,
   "metadata": {
    "colab": {
     "base_uri": "https://localhost:8080/",
     "height": 461
    },
    "id": "GUFVrSKu0MKp",
    "outputId": "4be9bf91-bb8a-4ea0-d847-ce6b3b4044b3"
   },
   "outputs": [],
   "source": [
    "# Check the first 5 lines of data\n",
    "..."
   ]
  },
  {
   "cell_type": "code",
   "execution_count": null,
   "metadata": {
    "colab": {
     "base_uri": "https://localhost:8080/"
    },
    "id": "4qtDVIW10MKp",
    "outputId": "2bb50d50-d271-407c-f892-06fd2235daf1"
   },
   "outputs": [],
   "source": [
    "# Check meta information about the features\n",
    "..."
   ]
  },
  {
   "cell_type": "code",
   "execution_count": null,
   "metadata": {
    "colab": {
     "base_uri": "https://localhost:8080/",
     "height": 364
    },
    "id": "NMN-Misf0MKp",
    "outputId": "d8bc4181-e962-4a12-c9b9-6cecbbe4741f"
   },
   "outputs": [],
   "source": [
    "# Check the important statistics of each feature\n",
    "..."
   ]
  },
  {
   "cell_type": "markdown",
   "metadata": {
    "id": "lekgZ1030MKq"
   },
   "source": [
    "### Visualize Data"
   ]
  },
  {
   "cell_type": "markdown",
   "metadata": {},
   "source": [
    ">__Task 2__\n",
    ">\n",
    ">Create a pairs plot to investigate all available relationships within the data"
   ]
  },
  {
   "cell_type": "code",
   "execution_count": null,
   "metadata": {
    "colab": {
     "base_uri": "https://localhost:8080/",
     "height": 1000
    },
    "id": "UiOHj8rp0MKq",
    "outputId": "e2d22db5-6602-4525-964b-70bcae23531b"
   },
   "outputs": [],
   "source": [
    "..."
   ]
  },
  {
   "cell_type": "markdown",
   "metadata": {},
   "source": [
    ">__Task 3__\n",
    ">\n",
    ">Create a histogram to see the distribution of the __BodyFat__ column (set bins to 30)"
   ]
  },
  {
   "cell_type": "code",
   "execution_count": null,
   "metadata": {
    "colab": {
     "base_uri": "https://localhost:8080/",
     "height": 361
    },
    "id": "W5yowLc30MKq",
    "outputId": "c7e72be8-710c-4745-e71a-0874def89756"
   },
   "outputs": [],
   "source": [
    "..."
   ]
  },
  {
   "cell_type": "markdown",
   "metadata": {},
   "source": [
    "Looks like body fat mostly ranges around 20, with low around 0 and high around 40."
   ]
  },
  {
   "cell_type": "markdown",
   "metadata": {},
   "source": [
    ">__Task 4__\n",
    ">\n",
    ">Check the exact range (min, 10%, 25%, 50%, 75%, 90%, max) of the __BodyFat__ column"
   ]
  },
  {
   "cell_type": "code",
   "execution_count": null,
   "metadata": {
    "colab": {
     "base_uri": "https://localhost:8080/",
     "height": 361
    },
    "id": "OtEt_4NABsSf",
    "outputId": "9703c91a-7895-4509-aa64-3f0eece07c13"
   },
   "outputs": [],
   "source": [
    "..."
   ]
  },
  {
   "cell_type": "markdown",
   "metadata": {},
   "source": [
    "Note that the column has at least one datapoint with value 0."
   ]
  },
  {
   "cell_type": "markdown",
   "metadata": {},
   "source": [
    "### Remove Outliers"
   ]
  },
  {
   "cell_type": "markdown",
   "metadata": {},
   "source": [
    "Let's find and print the row(s) with value 0. Do you think it is an outlier? If yes, let's remove it from the dataset."
   ]
  },
  {
   "cell_type": "markdown",
   "metadata": {
    "tags": []
   },
   "source": [
    ">__Task 5__\n",
    ">\n",
    ">- Find and print the row(s) that contain value 0\n",
    ">- Do you think it is an outlier? If yes, remove it from the data set"
   ]
  },
  {
   "cell_type": "code",
   "execution_count": null,
   "metadata": {},
   "outputs": [],
   "source": [
    "# Print row(s)\n",
    "..."
   ]
  },
  {
   "cell_type": "code",
   "execution_count": null,
   "metadata": {},
   "outputs": [],
   "source": [
    "# Remove the outlier\n",
    "..."
   ]
  },
  {
   "cell_type": "markdown",
   "metadata": {},
   "source": [
    "## Step 2: Split Data"
   ]
  },
  {
   "cell_type": "markdown",
   "metadata": {},
   "source": [
    ">__Task 6__\n",
    ">\n",
    ">- Assign the __BodyFat__ column to `y` and the rest of the columns to `X`\n",
    ">- Apply `train_test_split` function with a 80(train):20(test) ratio and set `random_state` to 156\n",
    ">- Make sure your code generates `X_train`, `X_test`, `y_train`, `y_test` sets"
   ]
  },
  {
   "cell_type": "code",
   "execution_count": null,
   "metadata": {
    "id": "5_CQEP7R0MKt"
   },
   "outputs": [],
   "source": [
    "# Remember to first import the function\n",
    "..."
   ]
  },
  {
   "cell_type": "markdown",
   "metadata": {},
   "source": [
    "If we print out `X_train`, we can see a more clear relationship."
   ]
  },
  {
   "cell_type": "code",
   "execution_count": 12,
   "metadata": {},
   "outputs": [
    {
     "data": {
      "text/html": [
       "<div>\n",
       "<style scoped>\n",
       "    .dataframe tbody tr th:only-of-type {\n",
       "        vertical-align: middle;\n",
       "    }\n",
       "\n",
       "    .dataframe tbody tr th {\n",
       "        vertical-align: top;\n",
       "    }\n",
       "\n",
       "    .dataframe thead th {\n",
       "        text-align: right;\n",
       "    }\n",
       "</style>\n",
       "<table border=\"1\" class=\"dataframe\">\n",
       "  <thead>\n",
       "    <tr style=\"text-align: right;\">\n",
       "      <th></th>\n",
       "      <th>Density</th>\n",
       "      <th>Age</th>\n",
       "      <th>Weight</th>\n",
       "      <th>Height</th>\n",
       "      <th>Neck</th>\n",
       "      <th>Chest</th>\n",
       "      <th>Abdomen</th>\n",
       "      <th>Hip</th>\n",
       "      <th>Thigh</th>\n",
       "      <th>Knee</th>\n",
       "      <th>Ankle</th>\n",
       "      <th>Biceps</th>\n",
       "      <th>Forearm</th>\n",
       "      <th>Wrist</th>\n",
       "    </tr>\n",
       "  </thead>\n",
       "  <tbody>\n",
       "    <tr>\n",
       "      <th>18</th>\n",
       "      <td>1.0622</td>\n",
       "      <td>28</td>\n",
       "      <td>183.75</td>\n",
       "      <td>67.75</td>\n",
       "      <td>38.0</td>\n",
       "      <td>106.8</td>\n",
       "      <td>89.6</td>\n",
       "      <td>102.4</td>\n",
       "      <td>64.2</td>\n",
       "      <td>38.7</td>\n",
       "      <td>22.9</td>\n",
       "      <td>37.2</td>\n",
       "      <td>30.5</td>\n",
       "      <td>18.5</td>\n",
       "    </tr>\n",
       "    <tr>\n",
       "      <th>49</th>\n",
       "      <td>1.0903</td>\n",
       "      <td>47</td>\n",
       "      <td>127.50</td>\n",
       "      <td>66.75</td>\n",
       "      <td>34.0</td>\n",
       "      <td>83.4</td>\n",
       "      <td>70.4</td>\n",
       "      <td>87.2</td>\n",
       "      <td>50.6</td>\n",
       "      <td>34.4</td>\n",
       "      <td>21.9</td>\n",
       "      <td>26.8</td>\n",
       "      <td>25.8</td>\n",
       "      <td>16.8</td>\n",
       "    </tr>\n",
       "    <tr>\n",
       "      <th>103</th>\n",
       "      <td>1.0480</td>\n",
       "      <td>49</td>\n",
       "      <td>196.75</td>\n",
       "      <td>73.75</td>\n",
       "      <td>40.7</td>\n",
       "      <td>103.5</td>\n",
       "      <td>95.5</td>\n",
       "      <td>101.6</td>\n",
       "      <td>59.1</td>\n",
       "      <td>39.8</td>\n",
       "      <td>25.4</td>\n",
       "      <td>31.0</td>\n",
       "      <td>30.3</td>\n",
       "      <td>19.7</td>\n",
       "    </tr>\n",
       "    <tr>\n",
       "      <th>184</th>\n",
       "      <td>1.0587</td>\n",
       "      <td>40</td>\n",
       "      <td>170.50</td>\n",
       "      <td>74.25</td>\n",
       "      <td>37.7</td>\n",
       "      <td>98.9</td>\n",
       "      <td>90.4</td>\n",
       "      <td>95.5</td>\n",
       "      <td>55.4</td>\n",
       "      <td>38.9</td>\n",
       "      <td>22.4</td>\n",
       "      <td>30.5</td>\n",
       "      <td>28.9</td>\n",
       "      <td>17.7</td>\n",
       "    </tr>\n",
       "    <tr>\n",
       "      <th>94</th>\n",
       "      <td>1.0785</td>\n",
       "      <td>47</td>\n",
       "      <td>184.25</td>\n",
       "      <td>74.50</td>\n",
       "      <td>37.3</td>\n",
       "      <td>99.6</td>\n",
       "      <td>88.8</td>\n",
       "      <td>101.4</td>\n",
       "      <td>57.4</td>\n",
       "      <td>39.6</td>\n",
       "      <td>24.6</td>\n",
       "      <td>30.3</td>\n",
       "      <td>27.9</td>\n",
       "      <td>17.8</td>\n",
       "    </tr>\n",
       "    <tr>\n",
       "      <th>...</th>\n",
       "      <td>...</td>\n",
       "      <td>...</td>\n",
       "      <td>...</td>\n",
       "      <td>...</td>\n",
       "      <td>...</td>\n",
       "      <td>...</td>\n",
       "      <td>...</td>\n",
       "      <td>...</td>\n",
       "      <td>...</td>\n",
       "      <td>...</td>\n",
       "      <td>...</td>\n",
       "      <td>...</td>\n",
       "      <td>...</td>\n",
       "      <td>...</td>\n",
       "    </tr>\n",
       "    <tr>\n",
       "      <th>63</th>\n",
       "      <td>1.0403</td>\n",
       "      <td>61</td>\n",
       "      <td>178.00</td>\n",
       "      <td>67.00</td>\n",
       "      <td>37.4</td>\n",
       "      <td>105.3</td>\n",
       "      <td>99.7</td>\n",
       "      <td>99.7</td>\n",
       "      <td>60.8</td>\n",
       "      <td>40.1</td>\n",
       "      <td>22.7</td>\n",
       "      <td>33.6</td>\n",
       "      <td>29.0</td>\n",
       "      <td>18.8</td>\n",
       "    </tr>\n",
       "    <tr>\n",
       "      <th>230</th>\n",
       "      <td>1.0745</td>\n",
       "      <td>57</td>\n",
       "      <td>147.75</td>\n",
       "      <td>65.75</td>\n",
       "      <td>35.2</td>\n",
       "      <td>99.6</td>\n",
       "      <td>86.4</td>\n",
       "      <td>90.1</td>\n",
       "      <td>53.0</td>\n",
       "      <td>35.0</td>\n",
       "      <td>21.3</td>\n",
       "      <td>31.7</td>\n",
       "      <td>27.3</td>\n",
       "      <td>16.9</td>\n",
       "    </tr>\n",
       "    <tr>\n",
       "      <th>162</th>\n",
       "      <td>1.0690</td>\n",
       "      <td>33</td>\n",
       "      <td>184.25</td>\n",
       "      <td>68.75</td>\n",
       "      <td>40.7</td>\n",
       "      <td>98.9</td>\n",
       "      <td>92.1</td>\n",
       "      <td>103.5</td>\n",
       "      <td>64.0</td>\n",
       "      <td>37.3</td>\n",
       "      <td>23.5</td>\n",
       "      <td>33.5</td>\n",
       "      <td>30.6</td>\n",
       "      <td>19.7</td>\n",
       "    </tr>\n",
       "    <tr>\n",
       "      <th>205</th>\n",
       "      <td>1.0610</td>\n",
       "      <td>44</td>\n",
       "      <td>208.75</td>\n",
       "      <td>73.00</td>\n",
       "      <td>41.9</td>\n",
       "      <td>105.6</td>\n",
       "      <td>96.3</td>\n",
       "      <td>102.0</td>\n",
       "      <td>63.3</td>\n",
       "      <td>39.8</td>\n",
       "      <td>24.1</td>\n",
       "      <td>37.3</td>\n",
       "      <td>23.1</td>\n",
       "      <td>19.4</td>\n",
       "    </tr>\n",
       "    <tr>\n",
       "      <th>44</th>\n",
       "      <td>1.0814</td>\n",
       "      <td>39</td>\n",
       "      <td>125.25</td>\n",
       "      <td>68.00</td>\n",
       "      <td>31.5</td>\n",
       "      <td>85.1</td>\n",
       "      <td>76.0</td>\n",
       "      <td>88.2</td>\n",
       "      <td>50.0</td>\n",
       "      <td>34.7</td>\n",
       "      <td>21.0</td>\n",
       "      <td>26.1</td>\n",
       "      <td>23.1</td>\n",
       "      <td>16.1</td>\n",
       "    </tr>\n",
       "  </tbody>\n",
       "</table>\n",
       "<p>200 rows × 14 columns</p>\n",
       "</div>"
      ],
      "text/plain": [
       "     Density  Age  Weight  Height  Neck  Chest  Abdomen    Hip  Thigh  Knee  \\\n",
       "18    1.0622   28  183.75   67.75  38.0  106.8     89.6  102.4   64.2  38.7   \n",
       "49    1.0903   47  127.50   66.75  34.0   83.4     70.4   87.2   50.6  34.4   \n",
       "103   1.0480   49  196.75   73.75  40.7  103.5     95.5  101.6   59.1  39.8   \n",
       "184   1.0587   40  170.50   74.25  37.7   98.9     90.4   95.5   55.4  38.9   \n",
       "94    1.0785   47  184.25   74.50  37.3   99.6     88.8  101.4   57.4  39.6   \n",
       "..       ...  ...     ...     ...   ...    ...      ...    ...    ...   ...   \n",
       "63    1.0403   61  178.00   67.00  37.4  105.3     99.7   99.7   60.8  40.1   \n",
       "230   1.0745   57  147.75   65.75  35.2   99.6     86.4   90.1   53.0  35.0   \n",
       "162   1.0690   33  184.25   68.75  40.7   98.9     92.1  103.5   64.0  37.3   \n",
       "205   1.0610   44  208.75   73.00  41.9  105.6     96.3  102.0   63.3  39.8   \n",
       "44    1.0814   39  125.25   68.00  31.5   85.1     76.0   88.2   50.0  34.7   \n",
       "\n",
       "     Ankle  Biceps  Forearm  Wrist  \n",
       "18    22.9    37.2     30.5   18.5  \n",
       "49    21.9    26.8     25.8   16.8  \n",
       "103   25.4    31.0     30.3   19.7  \n",
       "184   22.4    30.5     28.9   17.7  \n",
       "94    24.6    30.3     27.9   17.8  \n",
       "..     ...     ...      ...    ...  \n",
       "63    22.7    33.6     29.0   18.8  \n",
       "230   21.3    31.7     27.3   16.9  \n",
       "162   23.5    33.5     30.6   19.7  \n",
       "205   24.1    37.3     23.1   19.4  \n",
       "44    21.0    26.1     23.1   16.1  \n",
       "\n",
       "[200 rows x 14 columns]"
      ]
     },
     "execution_count": 12,
     "metadata": {},
     "output_type": "execute_result"
    }
   ],
   "source": [
    "X_train"
   ]
  },
  {
   "cell_type": "markdown",
   "metadata": {},
   "source": [
    "## Step 3: Develop and Fit the Model"
   ]
  },
  {
   "cell_type": "markdown",
   "metadata": {
    "id": "igjgK79Q0MKt"
   },
   "source": [
    ">__Task 7__\n",
    ">\n",
    ">- Create a linear regression model and fit to the training set\n",
    ">- Print the intercept and coefficients of the model"
   ]
  },
  {
   "cell_type": "code",
   "execution_count": null,
   "metadata": {
    "colab": {
     "base_uri": "https://localhost:8080/"
    },
    "id": "j87mygd10MKu",
    "outputId": "e1261756-cd5c-4b41-ac95-16f4806fe4df"
   },
   "outputs": [],
   "source": [
    "# Create and fit the model\n",
    "..."
   ]
  },
  {
   "cell_type": "code",
   "execution_count": null,
   "metadata": {
    "colab": {
     "base_uri": "https://localhost:8080/"
    },
    "id": "z5GPayB00MKu",
    "outputId": "30dc1165-85e0-4467-f527-5017c9494b80",
    "scrolled": true
   },
   "outputs": [],
   "source": [
    "# Print the parameters of the model\n",
    "..."
   ]
  },
  {
   "cell_type": "markdown",
   "metadata": {},
   "source": [
    "## Step 4: Predict Using the Model"
   ]
  },
  {
   "cell_type": "markdown",
   "metadata": {
    "id": "tjvd_F_o0MKu",
    "tags": []
   },
   "source": [
    "Once the model is fit, we can use it to predict body fat in the test set."
   ]
  },
  {
   "cell_type": "markdown",
   "metadata": {},
   "source": [
    ">__Task 8__\n",
    ">\n",
    ">Predict body fat using test set and print the results with \"Predicted body fat:\""
   ]
  },
  {
   "cell_type": "code",
   "execution_count": null,
   "metadata": {
    "colab": {
     "base_uri": "https://localhost:8080/"
    },
    "id": "0T-S2ZbP0MKu",
    "outputId": "b06fe29c-d835-432f-934e-11d96537af77"
   },
   "outputs": [],
   "source": [
    "..."
   ]
  },
  {
   "cell_type": "markdown",
   "metadata": {},
   "source": [
    "## Step 5: Evaluate the Accuracy"
   ]
  },
  {
   "cell_type": "markdown",
   "metadata": {},
   "source": [
    "### Plot Prediction Results"
   ]
  },
  {
   "cell_type": "markdown",
   "metadata": {},
   "source": [
    ">__Task 9__\n",
    ">\n",
    ">Use a scatter plot to illustrate the predicted values against the actual values"
   ]
  },
  {
   "cell_type": "code",
   "execution_count": null,
   "metadata": {},
   "outputs": [],
   "source": [
    "..."
   ]
  },
  {
   "cell_type": "markdown",
   "metadata": {},
   "source": [
    "### Caculate Evaluation Metrics"
   ]
  },
  {
   "cell_type": "markdown",
   "metadata": {},
   "source": [
    ">__Task 10__\n",
    ">\n",
    ">Find _mean squared error_, _mean absolute percentage error_, and _R-squared_ of the prediction"
   ]
  },
  {
   "cell_type": "code",
   "execution_count": null,
   "metadata": {
    "colab": {
     "base_uri": "https://localhost:8080/"
    },
    "id": "5hMiEQsB0MKv",
    "outputId": "d6571da4-2fd9-4d64-c779-693745665e35"
   },
   "outputs": [],
   "source": [
    "..."
   ]
  },
  {
   "cell_type": "markdown",
   "metadata": {},
   "source": [
    ">__Bonus Task__\n",
    ">\n",
    ">What do you think about the performance of the model based on the obtained metrcis?"
   ]
  },
  {
   "cell_type": "markdown",
   "metadata": {},
   "source": []
  }
 ],
 "metadata": {
  "colab": {
   "collapsed_sections": [],
   "name": "3_1_solution.ipynb",
   "provenance": []
  },
  "kernelspec": {
   "display_name": "Python 3",
   "language": "python",
   "name": "python3"
  },
  "language_info": {
   "codemirror_mode": {
    "name": "ipython",
    "version": 3
   },
   "file_extension": ".py",
   "mimetype": "text/x-python",
   "name": "python",
   "nbconvert_exporter": "python",
   "pygments_lexer": "ipython3",
   "version": "3.10.6"
  }
 },
 "nbformat": 4,
 "nbformat_minor": 4
}
